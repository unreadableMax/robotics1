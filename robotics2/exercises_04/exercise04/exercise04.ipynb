{
 "cells": [
  {
   "cell_type": "code",
   "execution_count": 3,
   "metadata": {},
   "outputs": [
    {
     "name": "stdout",
     "output_type": "stream",
     "text": [
      "Optimization terminated successfully.\n",
      "         Current function value: -94.000000  \n",
      "         Iterations: 4\n",
      "     con: array([], dtype=float64)\n",
      "     fun: -94.0\n",
      " message: 'Optimization terminated successfully.'\n",
      "     nit: 4\n",
      "   slack: array([119.,   0.])\n",
      "  status: 0\n",
      " success: True\n",
      "       x: array([22., -3.])\n",
      "[[1, 1], [-1, 2]]\n"
     ]
    },
    {
     "ename": "AttributeError",
     "evalue": "'list' object has no attribute 'T'",
     "output_type": "error",
     "traceback": [
      "\u001b[0;31m---------------------------------------------------------------------------\u001b[0m",
      "\u001b[0;31mAttributeError\u001b[0m                            Traceback (most recent call last)",
      "\u001b[0;32m<ipython-input-3-6d22f26f385c>\u001b[0m in \u001b[0;36m<module>\u001b[0;34m\u001b[0m\n\u001b[1;32m     51\u001b[0m \u001b[0mx0\u001b[0m \u001b[0;34m=\u001b[0m \u001b[0mnp\u001b[0m\u001b[0;34m.\u001b[0m\u001b[0mrandom\u001b[0m\u001b[0;34m.\u001b[0m\u001b[0mrandn\u001b[0m\u001b[0;34m(\u001b[0m\u001b[0;36m2\u001b[0m\u001b[0;34m)\u001b[0m\u001b[0;34m\u001b[0m\u001b[0;34m\u001b[0m\u001b[0m\n\u001b[1;32m     52\u001b[0m \u001b[0mprint\u001b[0m\u001b[0;34m(\u001b[0m\u001b[0mA\u001b[0m\u001b[0;34m)\u001b[0m\u001b[0;34m\u001b[0m\u001b[0;34m\u001b[0m\u001b[0m\n\u001b[0;32m---> 53\u001b[0;31m \u001b[0mprint\u001b[0m\u001b[0;34m(\u001b[0m\u001b[0mA\u001b[0m\u001b[0;34m.\u001b[0m\u001b[0mT\u001b[0m\u001b[0;34m)\u001b[0m\u001b[0;34m\u001b[0m\u001b[0;34m\u001b[0m\u001b[0m\n\u001b[0m\u001b[1;32m     54\u001b[0m \u001b[0;34m\u001b[0m\u001b[0m\n\u001b[1;32m     55\u001b[0m \u001b[0;32mdef\u001b[0m \u001b[0mF\u001b[0m\u001b[0;34m(\u001b[0m\u001b[0mx\u001b[0m\u001b[0;34m)\u001b[0m\u001b[0;34m:\u001b[0m\u001b[0;34m\u001b[0m\u001b[0;34m\u001b[0m\u001b[0m\n",
      "\u001b[0;31mAttributeError\u001b[0m: 'list' object has no attribute 'T'"
     ]
    }
   ],
   "source": [
    "import numpy as np\n",
    "from scipy import optimize\n",
    "from scipy.optimize import linprog\n",
    "from scipy.optimize import Bounds\n",
    "\n",
    "### Exercise 1\n",
    "# minimize\n",
    "#    F = -4x[0] + 2x[1]\n",
    "\n",
    "# subject to:\n",
    "#     -5x[0] + 1x[1] <= 6\n",
    "#       x[0] + 5x[1] <= 7\n",
    "#               x[1] >= -3\n",
    "#       -inf <= x[0] <= inf\n",
    "\n",
    "\n",
    "c = [-4, 2]\n",
    "A = [[-5, 1],[1, 5]]\n",
    "b = [6, 7]\n",
    "x0_bounds = (None, None)\n",
    "x1_bounds = (-3, None)\n",
    "res = linprog(c, A_ub=A, b_ub=b, bounds=(x0_bounds, x1_bounds), options={\"disp\": True})\n",
    "print(res)\n",
    "\n",
    "\n",
    "### Exercise 2\n",
    "# minimize\n",
    "#     F = x[1]^2 + 4x[2]^2 -32x[2] + 64\n",
    "\n",
    "# subject to:\n",
    "#      x[1] + x[2] <= 7\n",
    "#     -x[1] + 2x[2] <= 4\n",
    "#      x[1] >= 0 \n",
    "#       x[2] >= 0\n",
    "#      x[2] <= 4 \n",
    "#    0>=x[2]<=4\n",
    "\n",
    "# in matrix notation:\n",
    "#     F = (1/2)*x.T*H*x + c*x + c0\n",
    "\n",
    "# subject to:\n",
    "#     Ax <= b\n",
    "\n",
    "H = [[2, 0],[0, 8]]\n",
    "\n",
    "#c = [1,[4,-32]] \n",
    "\n",
    "#c0 = [64]\n",
    "\n",
    "A = [[1,1],[-1,2]]\n",
    "\n",
    "b = [7,4]\n",
    "\n",
    "x0 = np.random.randn(2)\n",
    "\n",
    "def F(x):\n",
    "    return x[0]**2 + 4*x[1]**2 -32*x[1] + 64\n",
    "\n",
    "def jac(x):\n",
    "    return [2*x[0], 8*x[1]-32]\n",
    "\n",
    "x0_bounds = (0, None)\n",
    "x1_bounds = (0, 4)\n",
    "bounds = Bounds([0, None], [0, 4.0])\n",
    "\n",
    "#cons = ___\n",
    "\n",
    "#cons_no_jac = ___\n",
    "\n",
    "solver = 'SLSQP'\n",
    "\n",
    "def opt_const_jac():\n",
    "    return optimize.minimize(F, x0, jac=jac,constraints=cons, method=solver)\n",
    "\n",
    "def opt_const_no_jac():\n",
    "    return optimize.minimize(F, x0, constraints=cons_no_jac, method=solver)\n",
    "\n",
    "def opt_no_const_jac():\n",
    "    return optimize.minimize(F, x0, jac=jac, method=solver)\n",
    "\n",
    "def opt_no_const_no_jac():\n",
    "    return optimize.minimize(F, x0, method=solver)\n",
    "\n",
    "\n"
   ]
  },
  {
   "cell_type": "code",
   "execution_count": 24,
   "metadata": {},
   "outputs": [
    {
     "name": "stdout",
     "output_type": "stream",
     "text": [
      "opt_no_const_no_jac: 1.0764598846435546e-06 ms\n"
     ]
    }
   ],
   "source": [
    "# implement timeit method\n",
    "import time\n",
    "start = time.time()\n",
    "opt_no_const_no_jac_res = opt_no_const_no_jac()\n",
    "end = time.time()\n",
    "print(\"opt_no_const_no_jac: \"+str((end - start)/1000) + \" ms\")"
   ]
  }
 ],
 "metadata": {
  "kernelspec": {
   "display_name": "Python 3",
   "language": "python",
   "name": "python3"
  },
  "language_info": {
   "codemirror_mode": {
    "name": "ipython",
    "version": 3
   },
   "file_extension": ".py",
   "mimetype": "text/x-python",
   "name": "python",
   "nbconvert_exporter": "python",
   "pygments_lexer": "ipython3",
   "version": "3.7.3"
  }
 },
 "nbformat": 4,
 "nbformat_minor": 2
}
